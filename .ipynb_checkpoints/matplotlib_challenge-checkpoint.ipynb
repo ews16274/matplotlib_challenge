{
 "cells": [
  {
   "cell_type": "code",
   "execution_count": null,
   "metadata": {},
   "outputs": [],
   "source": [
    "# Dependencies and Setup\n",
    "import matplotlib.pyplot as plt\n",
    "import pandas as pd\n",
    "import scipy.stats as st\n",
    "import numpy as np\n",
    "from scipy import stats \n",
    "\n",
    "# Study data files\n",
    "mouse_metadata_path = \"data/Mouse_metadata.csv\"\n",
    "study_results_path = \"data/Study_results.csv\"\n",
    "\n",
    "# Read the mouse data and the study results\n",
    "mouse_metadata = pd.read_csv(mouse_metadata_path)\n",
    "study_results = pd.read_csv(study_results_path)\n",
    "\n",
    "# Combine the data into a single dataset\n",
    "combined_mouse_results = pd.merge(mouse_metadata,study_results, how='outer', on=\"Mouse ID\")\n",
    "\n",
    "# Display the data table for preview\n",
    "combined_mouse_results.head()"
   ]
  },
  {
   "cell_type": "code",
   "execution_count": null,
   "metadata": {},
   "outputs": [],
   "source": [
    "# Checking the number of mice.\n",
    "mouse_count = combined_mouse_results['Mouse ID'].count()\n",
    "mouse_count"
   ]
  },
  {
   "cell_type": "code",
   "execution_count": null,
   "metadata": {},
   "outputs": [],
   "source": [
    "# Getting the duplicate mice by ID number that shows up for Mouse ID and Timepoint. \n",
    "mouse_dup_idtp = combined_mouse_results\n",
    "mouse_dup_idtp = mouse_dup_idtp.sort_values(by=['Mouse ID','Timepoint'],ascending=False)\n",
    "mouse_dup_idtp = mouse_dup_idtp.drop_duplicates(subset=['Mouse ID','Timepoint'],keep='first')\n",
    "mouse_dup_idtp"
   ]
  },
  {
   "cell_type": "code",
   "execution_count": null,
   "metadata": {},
   "outputs": [],
   "source": [
    "# Create a clean DataFrame by dropping the duplicate mouse by its ID.\n",
    "dups_of_df = mouse_dup_idtp\n",
    "mouse_dup_idtp = mouse_dup_idtp.sort_values(by=['Mouse ID','Timepoint'],ascending=False)\n",
    "dups_of_df = dups_of_df.drop_duplicates(subset='Mouse ID',keep='first')\n",
    "dups_of_df.head()"
   ]
  },
  {
   "cell_type": "code",
   "execution_count": null,
   "metadata": {},
   "outputs": [],
   "source": [
    "# Checking the number of mice in the clean DataFrame.\n",
    "count_mouseid = dups_of_df['Mouse ID']\n",
    "count_mouseid = count_mouseid.count()\n",
    "count_mouseid_tp = mouse_dup_idtp['Mouse ID']\n",
    "count_mouseid_tp = count_mouseid_tp.count()\n",
    "\n",
    "print('Number of mice in dataframe with removed duplicates of Mouse ID and Timepoint:', count_mouseid_tp)\n",
    "print('Number of mice in dataframe with removed duplicates of Mouse ID:', count_mouseid)\n"
   ]
  },
  {
   "cell_type": "code",
   "execution_count": null,
   "metadata": {},
   "outputs": [],
   "source": [
    "# Generate a summary statistics table of mean, median, variance, standard deviation, and SEM of the tumor volume for each regimen\n",
    "\n",
    "# Use groupby and summary statistical methods to calculate the following properties of each drug regimen: \n",
    "# mean, median, variance, standard deviation, and SEM of the tumor volume. \n",
    "# Assemble the resulting series into a single summary dataframe.\n",
    "drug_regimen_df = dups_of_df[[\"Drug Regimen\",'Tumor Volume (mm3)']]\n",
    "drug_regimen_df.head()\n",
    "\n",
    "drug_regimen_mean = drug_regimen_df.groupby('Drug Regimen').mean()\n",
    "drug_regimen_mean.rename(columns={'Tumor Volume (mm3)':'Mean'},inplace=True)\n",
    "drug_regimen_median = drug_regimen_df.groupby('Drug Regimen').median()\n",
    "drug_regimen_median.rename(columns={'Tumor Volume (mm3)':'Median'},inplace=True)\n",
    "main_stat_data = pd.merge(drug_regimen_mean, drug_regimen_median,left_on=['Drug Regimen'],right_on=['Drug Regimen'])\n",
    "\n",
    "drug_regimen_var = drug_regimen_df.groupby('Drug Regimen').var()\n",
    "drug_regimen_var.rename(columns={'Tumor Volume (mm3)':'Variance'},inplace=True)\n",
    "main_stat_data = pd.merge(main_stat_data, drug_regimen_var,left_on=['Drug Regimen'],right_on=['Drug Regimen'])\n",
    "\n",
    "\n",
    "drug_regimen_std = drug_regimen_df.groupby('Drug Regimen').std()\n",
    "drug_regimen_std.rename(columns={'Tumor Volume (mm3)':'STD'},inplace=True)\n",
    "main_stat_data = pd.merge(main_stat_data, drug_regimen_std,left_on=['Drug Regimen'],right_on=['Drug Regimen'])\n",
    "\n",
    "\n",
    "drug_regimen_sem = drug_regimen_df.groupby('Drug Regimen').sem()\n",
    "drug_regimen_sem.rename(columns={'Tumor Volume (mm3)':'SEM'},inplace=True)\n",
    "main_stat_data = pd.merge(main_stat_data, drug_regimen_sem,left_on=['Drug Regimen'],right_on=['Drug Regimen'])\n",
    "\n",
    "main_stat_data"
   ]
  },
  {
   "cell_type": "code",
   "execution_count": null,
   "metadata": {},
   "outputs": [],
   "source": [
    "# Generate a summary statistics table of mean, median, variance, standard deviation, and SEM of the tumor volume for each regimen\n",
    "\n",
    "# Using the aggregation method, produce the same summary statistics in a single line\n",
    "drug_regimen_df = dups_of_df[[\"Drug Regimen\",'Tumor Volume (mm3)']]\n",
    "drug_regimen_df = drug_regimen_df.groupby('Drug Regimen').agg({'Tumor Volume (mm3)':['mean','median','var','std','sem']})\n",
    "\n",
    "drug_regimen_df"
   ]
  },
  {
   "cell_type": "code",
   "execution_count": null,
   "metadata": {},
   "outputs": [],
   "source": [
    "# Generate a bar plot showing the total number of unique mice tested on each drug regimen using pandas.\n",
    "unique_mice_tested = dups_of_df[['Drug Regimen','Mouse ID']]\n",
    "unique_mice_tested = unique_mice_tested.groupby('Drug Regimen').count()\n",
    "unique_mice_tested.plot(kind='bar',facecolor='red')"
   ]
  },
  {
   "cell_type": "code",
   "execution_count": null,
   "metadata": {},
   "outputs": [],
   "source": [
    "# Generate a bar plot showing the total number of unique mice tested on each drug regimen using pyplot.\n",
    "explode=(0,0,0,0,0,0,0.1,0,0,0)\n",
    "unique_mice_tested.plot.pie(y='Mouse ID', figsize=(6, 40),shadow=True,explode=explode)"
   ]
  },
  {
   "cell_type": "code",
   "execution_count": null,
   "metadata": {},
   "outputs": [],
   "source": [
    "# Generate a pie plot showing the distribution of female versus male mice using pandas\n",
    "unique_mice_sex = dups_of_df[['Drug Regimen','Sex']]\n",
    "unique_mice_sex = unique_mice_sex.groupby('Sex').count()\n",
    "unique_mice_sex.plot.pie(y='Drug Regimen', figsize=(6, 40),autopct='%1.1f%%',shadow=True)"
   ]
  },
  {
   "cell_type": "code",
   "execution_count": null,
   "metadata": {},
   "outputs": [],
   "source": [
    "# Generate a pie plot showing the distribution of female versus male mice using pyplot\n",
    "explode=(0,0.1)\n",
    "unique_mice_sex.plot.pie(y='Drug Regimen', figsize=(6, 40),autopct='%1.1f%%',explode=explode,shadow=True)"
   ]
  },
  {
   "cell_type": "code",
   "execution_count": null,
   "metadata": {},
   "outputs": [],
   "source": [
    "# Calculate the final tumor volume of each mouse across four of the treatment regimens:  \n",
    "# Capomulin, Ramicane, Infubinol, and Ceftamin\n",
    "\n",
    "four_drugs = dups_of_df[['Mouse ID',\"Drug Regimen\",'Tumor Volume (mm3)']]\n",
    "\n",
    "indexNames = four_drugs[ four_drugs['Drug Regimen'] == 'Zoniferol' ].index\n",
    "four_drugs.drop(indexNames , inplace=True)\n",
    "indexNames2 = four_drugs[ four_drugs['Drug Regimen'] == 'Ketapril' ].index\n",
    "four_drugs.drop(indexNames2 , inplace=True)\n",
    "indexNames3 = four_drugs[ four_drugs['Drug Regimen'] == 'Naftisol' ].index\n",
    "four_drugs.drop(indexNames3 , inplace=True)\n",
    "indexNames4 = four_drugs[ four_drugs['Drug Regimen'] == 'Placebo' ].index\n",
    "four_drugs.drop(indexNames4 , inplace=True)\n",
    "indexNames5 = four_drugs[ four_drugs['Drug Regimen'] == 'Propriva' ].index\n",
    "four_drugs.drop(indexNames5 , inplace=True)\n",
    "indexNames6 = four_drugs[ four_drugs['Drug Regimen'] == 'Stelasyn' ].index\n",
    "four_drugs.drop(indexNames6 , inplace=True)\n",
    "\n",
    "four_drugs = four_drugs.sort_values(by=['Mouse ID','Drug Regimen'],ascending=True)\n",
    "\n",
    "four_drugs"
   ]
  },
  {
   "cell_type": "code",
   "execution_count": null,
   "metadata": {},
   "outputs": [],
   "source": [
    "# Put treatments into a list for for loop (and later for plot labels)\n",
    "treatments = ['Capomulin','Ceftamin','Infubinol','Ramicane']\n",
    "\n",
    "# Create empty list to fill with tumor vol data (for plotting)\n",
    "# Calculate the IQR and quantitatively determine if there are any potential outliers. \n",
    "\n",
    "iqr_data = four_drugs['Tumor Volume (mm3)']\n",
    "iqr_data = iqr_data.sort_values(ascending=True)\n",
    "IQR = stats.iqr(iqr_data, interpolation = 'midpoint') \n",
    "print('IQR: ',IQR,'showing that there are no outliers because an outlier is point which falls 1.5 times above the quartile range')\n",
    "    \n",
    "    # Locate the rows which contain mice on each drug and get the tumor volumes\n",
    "four_drugs\n",
    "\n",
    "    # add subset \n",
    "    # Determine outliers using upper and lower bounds\n",
    "    \n",
    "# First quartile (Q1) \n",
    "Q1 = np.median(iqr_data[:49]) \n",
    "print('Q1:',Q1)\n",
    "\n",
    "# Third quartile (Q3) \n",
    "Q3 = np.median(iqr_data[99:])  \n",
    "print('Q3: ',Q3)\n",
    "\n",
    "\n",
    "#define lower and upper limit for the outlier for loop    \n",
    "low_lim = Q1 - (1.5 * IQR) \n",
    "up_lim = Q3 + (1.5 * IQR)\n",
    "print('low_limit is', low_lim) \n",
    "print('up_limit is', up_lim)  \n",
    "\n",
    "#find the outlier\n",
    "outlier =[] \n",
    "for x in iqr_data: \n",
    "    if ((x> up_lim) or (x<low_lim)): \n",
    "         outlier.append(x) \n",
    "print('Outlier in the dataset is', outlier)"
   ]
  },
  {
   "cell_type": "code",
   "execution_count": null,
   "metadata": {},
   "outputs": [],
   "source": [
    "# Generate a box plot of the final tumor volume of each mouse across four regimens of interest\n",
    "tumor_data = iqr_data\n",
    "fig1, axl = plt.subplots()\n",
    "axl.set_title('final tumor volume of each mouse across four regimens')\n",
    "axl.set_ylabel('tumor volume')\n",
    "axl.boxplot(tumor_data)\n",
    "plt.show()"
   ]
  },
  {
   "cell_type": "code",
   "execution_count": null,
   "metadata": {},
   "outputs": [],
   "source": [
    "# Generate a line plot of tumor volume vs. time point for a mouse treated with Capomulin\n",
    "campomulin_data = dups_of_df[['Mouse ID','Drug Regimen','Tumor Volume (mm3)','Timepoint','Weight (g)']]\n",
    "\n",
    "index_Names = campomulin_data[ campomulin_data['Drug Regimen'] == 'Ceftamin' ].index\n",
    "campomulin_data.drop(index_Names , inplace=True)\n",
    "index_Names2 = campomulin_data[ campomulin_data['Drug Regimen'] == 'Infubinol' ].index\n",
    "campomulin_data.drop(index_Names2 , inplace=True)\n",
    "index_Names2 = campomulin_data[ campomulin_data['Drug Regimen'] == 'Ramicane' ].index\n",
    "campomulin_data.drop(index_Names2 , inplace=True)\n",
    "indexNames = campomulin_data[ campomulin_data['Drug Regimen'] == 'Zoniferol' ].index\n",
    "campomulin_data.drop(indexNames , inplace=True)\n",
    "indexNames2 = campomulin_data[ campomulin_data['Drug Regimen'] == 'Ketapril' ].index\n",
    "campomulin_data.drop(indexNames2 , inplace=True)\n",
    "indexNames3 = campomulin_data[ campomulin_data['Drug Regimen'] == 'Naftisol' ].index\n",
    "campomulin_data.drop(indexNames3 , inplace=True)\n",
    "indexNames4 = campomulin_data[ campomulin_data['Drug Regimen'] == 'Placebo' ].index\n",
    "campomulin_data.drop(indexNames4 , inplace=True)\n",
    "indexNames5 = campomulin_data[ campomulin_data['Drug Regimen'] == 'Propriva' ].index\n",
    "campomulin_data.drop(indexNames5 , inplace=True)\n",
    "indexNames6 = campomulin_data[ campomulin_data['Drug Regimen'] == 'Stelasyn' ].index\n",
    "campomulin_data.drop(indexNames6 , inplace=True)\n",
    "\n",
    "campomulin_data\n",
    "\n",
    "campo_vol_tp = campomulin_data[['Tumor Volume (mm3)','Timepoint']]\n",
    "\n",
    "campo_vol_tp = campo_vol_tp.sort_values(by=['Timepoint','Tumor Volume (mm3)'],ascending=True)\n",
    "\n",
    "plt.title('Campomulin Line Graph')\n",
    "plt.xlabel('Time')\n",
    "plt.ylabel('Tumor Volume (mm3)')\n",
    "plt.plot(campo_vol_tp['Timepoint'], campo_vol_tp['Tumor Volume (mm3)'])\n"
   ]
  },
  {
   "cell_type": "code",
   "execution_count": null,
   "metadata": {},
   "outputs": [],
   "source": [
    "# Generate a scatter plot of average tumor volume vs. mouse weight for the Capomulin regimen\n",
    "campo_vol_weight = campomulin_data[['Tumor Volume (mm3)','Weight (g)']]\n",
    "campo_vol_weight = campo_vol_weight.groupby('Tumor Volume (mm3)').mean()\n",
    "\n",
    "campo_weight = campomulin_data['Weight (g)']\n",
    "campo_vol = campomulin_data['Tumor Volume (mm3)']\n",
    "\n",
    "plt.title('Campomulin Scatter Plot')\n",
    "plt.xlabel('Tumor Volume (mm3)')\n",
    "plt.ylabel('Weight (g)')\n",
    "plt.scatter(campo_vol, campo_weight)\n",
    "plt.show()"
   ]
  },
  {
   "cell_type": "code",
   "execution_count": null,
   "metadata": {},
   "outputs": [],
   "source": [
    "# Calculate the correlation coefficient and linear regression model \n",
    "# for mouse weight and average tumor volume for the Capomulin regimen\n",
    "aa_slope, aa_int, aa_r, aa_p, aa_std_err = stats.linregress(campo_vol, campo_weight)\n",
    "aa_fit = aa_slope * campo_vol + aa_int\n",
    "plt.scatter(campo_vol,campo_weight)\n",
    "plt.plot(campo_vol,aa_fit,\"--\")\n",
    "plt.xlabel('Vol')\n",
    "plt.ylabel('weight')\n",
    "plt.show()"
   ]
  }
 ],
 "metadata": {
  "kernelspec": {
   "display_name": "Python [conda env:PythonData] *",
   "language": "python",
   "name": "conda-env-PythonData-py"
  },
  "language_info": {
   "codemirror_mode": {
    "name": "ipython",
    "version": 3
   },
   "file_extension": ".py",
   "mimetype": "text/x-python",
   "name": "python",
   "nbconvert_exporter": "python",
   "pygments_lexer": "ipython3",
   "version": "3.6.10"
  }
 },
 "nbformat": 4,
 "nbformat_minor": 4
}
